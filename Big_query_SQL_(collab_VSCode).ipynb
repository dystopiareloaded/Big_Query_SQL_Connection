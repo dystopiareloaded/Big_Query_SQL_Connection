{
  "nbformat": 4,
  "nbformat_minor": 0,
  "metadata": {
    "colab": {
      "provenance": []
    },
    "kernelspec": {
      "name": "python3",
      "display_name": "Python 3"
    },
    "language_info": {
      "name": "python"
    }
  },
  "cells": [
    {
      "cell_type": "code",
      "execution_count": 1,
      "metadata": {
        "colab": {
          "base_uri": "https://localhost:8080/"
        },
        "id": "maRxcolzTy-e",
        "outputId": "67f32e0b-063c-4b82-f869-7bf77bc9ab1e"
      },
      "outputs": [
        {
          "output_type": "stream",
          "name": "stdout",
          "text": [
            "\u001b[2K     \u001b[90m━━━━━━━━━━━━━━━━━━━━━━━━━━━━━━━━━━━━━━━━\u001b[0m \u001b[32m91.2/91.2 kB\u001b[0m \u001b[31m2.1 MB/s\u001b[0m eta \u001b[36m0:00:00\u001b[0m\n",
            "\u001b[2K   \u001b[90m━━━━━━━━━━━━━━━━━━━━━━━━━━━━━━━━━━━━━━━━\u001b[0m \u001b[32m12.4/12.4 MB\u001b[0m \u001b[31m63.3 MB/s\u001b[0m eta \u001b[36m0:00:00\u001b[0m\n",
            "\u001b[2K   \u001b[90m━━━━━━━━━━━━━━━━━━━━━━━━━━━━━━━━━━━━━━━━\u001b[0m \u001b[32m8.6/8.6 MB\u001b[0m \u001b[31m52.1 MB/s\u001b[0m eta \u001b[36m0:00:00\u001b[0m\n",
            "\u001b[?25h\u001b[31mERROR: pip's dependency resolver does not currently take into account all the packages that are installed. This behaviour is the source of the following dependency conflicts.\n",
            "google-colab 1.0.0 requires pandas==2.2.2, but you have pandas 2.3.0 which is incompatible.\n",
            "dask-cudf-cu12 25.2.2 requires pandas<2.2.4dev0,>=2.0, but you have pandas 2.3.0 which is incompatible.\n",
            "cudf-cu12 25.2.1 requires pandas<2.2.4dev0,>=2.0, but you have pandas 2.3.0 which is incompatible.\u001b[0m\u001b[31m\n",
            "\u001b[0m"
          ]
        }
      ],
      "source": [
        "!pip install --upgrade google-cloud-bigquery pandas matplotlib seaborn --quiet"
      ]
    },
    {
      "cell_type": "code",
      "source": [
        "# ✅ Step 2: Authenticate using your Google Account (easy!)\n",
        "from google.colab import auth\n",
        "auth.authenticate_user()"
      ],
      "metadata": {
        "id": "z3DnHM2NUIxw"
      },
      "execution_count": 3,
      "outputs": []
    },
    {
      "cell_type": "markdown",
      "source": [
        "## 🆔 How to Find Your Project ID\n",
        "Go to: https://console.cloud.google.com/\n",
        "\n",
        "Create/select a project\n",
        "\n",
        "Copy the Project ID (e.g., data-kaustav-789)\n",
        "\n",
        "If you’ve never created a GCP project before, go to:\n",
        "👉 https://console.cloud.google.com/projectcreate"
      ],
      "metadata": {
        "id": "W9jx20DgWeg_"
      }
    },
    {
      "cell_type": "code",
      "source": [
        "# ✅ Step 3: Import libraries\n",
        "from google.cloud import bigquery\n",
        "import pandas as pd\n",
        "import seaborn as sns\n",
        "import matplotlib.pyplot as plt\n",
        "\n",
        "sns.set(style='whitegrid')\n",
        "\n",
        "# Replace with your actual GCP project ID\n",
        "client = bigquery.Client(project=\"your-project-id\")"
      ],
      "metadata": {
        "id": "vMcbk6zeUkWQ"
      },
      "execution_count": 4,
      "outputs": []
    },
    {
      "cell_type": "code",
      "source": [
        "# ✅ Step 4: Helper function to run queries\n",
        "def run_query(query):\n",
        "    return client.query(query).to_dataframe()"
      ],
      "metadata": {
        "id": "FnhWfeTvUtK4"
      },
      "execution_count": 5,
      "outputs": []
    },
    {
      "cell_type": "code",
      "source": [
        "query1 = \"\"\"\n",
        "WITH netflix AS (\n",
        "  SELECT * FROM `bigquery-public-data.netflix_titles.netflix_titles`\n",
        ")\n",
        "SELECT type, COUNT(*) AS count\n",
        "FROM netflix\n",
        "GROUP BY type\n",
        "\"\"\"\n",
        "df1 = run_query(query1)\n",
        "\n",
        "# Plot it\n",
        "sns.barplot(data=df1, x='type', y='count', palette='Set2')\n",
        "plt.title(\"🎬 Count of Movies vs TV Shows on Netflix\")\n",
        "plt.xlabel(\"Type\")\n",
        "plt.ylabel(\"Count\")\n",
        "plt.show()"
      ],
      "metadata": {
        "id": "uUO_Y-k1WkLv"
      },
      "execution_count": null,
      "outputs": []
    },
    {
      "cell_type": "markdown",
      "source": [
        "## VSCODE SETUP"
      ],
      "metadata": {
        "id": "Fr4CzILUXHuX"
      }
    },
    {
      "cell_type": "markdown",
      "source": [
        "# ✅ So in VS Code, you must:\n",
        "🔐 Step 1: Download a Service Account Key JSON\n",
        "Go to Google Cloud Console → IAM & Admin → Service Accounts\n",
        "\n",
        "Select your project.\n",
        "\n",
        "Create a service account (if not already done).\n",
        "\n",
        "Go to Keys tab → Add Key → Create new key → JSON\n",
        "\n",
        "Save the .json file (e.g., kaustav-gcp-key.json) in your VS Code project folder."
      ],
      "metadata": {
        "id": "eYvUwDaDXPZA"
      }
    },
    {
      "cell_type": "markdown",
      "source": [
        "# 🛠️ Step 2: Install Required Libraries"
      ],
      "metadata": {
        "id": "1dKbZK3aXTg4"
      }
    },
    {
      "cell_type": "code",
      "source": [
        "!pip install google-cloud-bigquery pandas matplotlib seaborn\n"
      ],
      "metadata": {
        "id": "juDJ_3v6XLGn"
      },
      "execution_count": null,
      "outputs": []
    },
    {
      "cell_type": "markdown",
      "source": [
        "# 🔧 Step 3: Authenticate with Service Account Key"
      ],
      "metadata": {
        "id": "rtPlEQGrXahX"
      }
    },
    {
      "cell_type": "code",
      "source": [
        "from google.oauth2 import service_account\n",
        "from google.cloud import bigquery\n",
        "import pandas as pd\n",
        "import seaborn as sns\n",
        "import matplotlib.pyplot as plt\n",
        "\n",
        "sns.set(style='whitegrid')\n",
        "\n",
        "# ✅ Path to your key file\n",
        "key_path = \"kaustav-gcp-key.json\"\n",
        "\n",
        "# ✅ Create credentials and client\n",
        "credentials = service_account.Credentials.from_service_account_file(key_path)\n",
        "client = bigquery.Client(credentials=credentials, project=credentials.project_id)\n"
      ],
      "metadata": {
        "id": "TtxPrGWrXYkJ"
      },
      "execution_count": null,
      "outputs": []
    },
    {
      "cell_type": "markdown",
      "source": [
        "# ✅ Step 4: Define Helper and Run Query"
      ],
      "metadata": {
        "id": "_7V7wfldXgS4"
      }
    },
    {
      "cell_type": "code",
      "source": [
        "def run_query(query):\n",
        "    return client.query(query).to_dataframe()\n",
        "\n",
        "query1 = \"\"\"\n",
        "WITH netflix AS (\n",
        "  SELECT * FROM `bigquery-public-data.netflix_titles.netflix_titles`\n",
        ")\n",
        "SELECT type, COUNT(*) AS count\n",
        "FROM netflix\n",
        "GROUP BY type\n",
        "\"\"\"\n",
        "\n",
        "df1 = run_query(query1)\n"
      ],
      "metadata": {
        "id": "EDrD-_2dXeGQ"
      },
      "execution_count": null,
      "outputs": []
    },
    {
      "cell_type": "markdown",
      "source": [
        "# 📊 Step 5: Plot in VS Code"
      ],
      "metadata": {
        "id": "rw5IDk9QXkqA"
      }
    },
    {
      "cell_type": "code",
      "source": [
        "sns.barplot(data=df1, x='type', y='count', palette='Set2')\n",
        "plt.title(\"🎬 Count of Movies vs TV Shows on Netflix\")\n",
        "plt.xlabel(\"Type\")\n",
        "plt.ylabel(\"Count\")\n",
        "plt.show()\n"
      ],
      "metadata": {
        "id": "JMbTu_tRXm3-"
      },
      "execution_count": null,
      "outputs": []
    },
    {
      "cell_type": "markdown",
      "source": [
        "# ✅ Summary: VS Code Setup Steps\n",
        "✅ Install required Python packages\n",
        "\n",
        "✅ Download & save service account .json key\n",
        "\n",
        "✅ Use google.oauth2.service_account for authentication\n",
        "\n",
        "✅ Connect to BigQuery and run SQL queries just like in Colab"
      ],
      "metadata": {
        "id": "Yazc4arfXwVA"
      }
    },
    {
      "cell_type": "code",
      "source": [],
      "metadata": {
        "id": "JjOn31OpXxqg"
      },
      "execution_count": null,
      "outputs": []
    }
  ]
}