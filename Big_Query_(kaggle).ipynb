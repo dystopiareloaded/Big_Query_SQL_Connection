{
  "nbformat": 4,
  "nbformat_minor": 0,
  "metadata": {
    "colab": {
      "provenance": []
    },
    "kernelspec": {
      "name": "python3",
      "display_name": "Python 3"
    },
    "language_info": {
      "name": "python"
    }
  },
  "cells": [
    {
      "cell_type": "code",
      "execution_count": null,
      "metadata": {
        "id": "iudLV96VZlo1"
      },
      "outputs": [],
      "source": [
        "# 📦 Required Libraries\n",
        "import pandas as pd\n",
        "import matplotlib.pyplot as plt\n",
        "import seaborn as sns\n",
        "\n",
        "sns.set(style=\"whitegrid\")"
      ]
    },
    {
      "cell_type": "code",
      "source": [
        "-- 🎬 Load Netflix Titles from BigQuery\n",
        "%%bigquery df\n",
        "SELECT *\n",
        "FROM `bigquery-public-data.netflix_titles.netflix_titles`\n",
        "LIMIT 1000\n"
      ],
      "metadata": {
        "id": "shJZ_ou7ZxPf"
      },
      "execution_count": null,
      "outputs": []
    },
    {
      "cell_type": "code",
      "source": [
        "# 👀 Preview the Data\n",
        "df.head()\n"
      ],
      "metadata": {
        "id": "Kp16bzfEZ3Av"
      },
      "execution_count": null,
      "outputs": []
    },
    {
      "cell_type": "markdown",
      "source": [
        "# ✅ If you're using BigQuery on Kaggle, do this:\n",
        "🎯 Correct Way Using %%bigquery:"
      ],
      "metadata": {
        "id": "VemyR7p6Z9Tm"
      }
    },
    {
      "cell_type": "code",
      "source": [
        "%%bigquery df\n",
        "SELECT type, COUNT(*) AS count\n",
        "FROM `bigquery-public-data.netflix_titles.netflix_titles`\n",
        "GROUP BY type\n"
      ],
      "metadata": {
        "id": "WNlg-HMkZ6Gv"
      },
      "execution_count": null,
      "outputs": []
    },
    {
      "cell_type": "code",
      "source": [
        "# 🎥 Let's compare how many Movies and TV Shows are in the Netflix dataset.\n",
        "print(\"🎥 Let's compare how many Movies and TV Shows are in the Netflix dataset. Are we binge-watching more movies or shows? Let's find out!\")\n",
        "\n",
        "df.head()\n"
      ],
      "metadata": {
        "id": "19iPVJWWZ8gh"
      },
      "execution_count": null,
      "outputs": []
    },
    {
      "cell_type": "markdown",
      "source": [
        "# ✅ Step-by-Step: Use a Short Alias (netflix) in BigQuery\n",
        "📌 Step 1: Create a temporary view\n",
        "You can create a temporary table/view using a WITH clause or a subquery and refer to it as netflix in your queries.\n",
        "\n",
        "✅ Example:"
      ],
      "metadata": {
        "id": "458b4nG5aETv"
      }
    },
    {
      "cell_type": "code",
      "source": [
        "%%bigquery type_count\n",
        "WITH netflix AS (\n",
        "  SELECT *\n",
        "  FROM `bigquery-public-data.netflix_titles.netflix_titles`\n",
        ")\n",
        "SELECT type, COUNT(*) AS count\n",
        "FROM netflix\n",
        "GROUP BY type\n"
      ],
      "metadata": {
        "id": "PkxkMfEVaFZJ"
      },
      "execution_count": null,
      "outputs": []
    },
    {
      "cell_type": "code",
      "source": [
        "# 🎥 Output\n",
        "type_count.head()\n"
      ],
      "metadata": {
        "id": "ErC7QysPaHZ3"
      },
      "execution_count": null,
      "outputs": []
    },
    {
      "cell_type": "markdown",
      "source": [
        "# 🔁 You can reuse this WITH netflix AS (...) pattern in all your queries\n",
        "✅ Another example:"
      ],
      "metadata": {
        "id": "OvQFHIJQaJxf"
      }
    },
    {
      "cell_type": "code",
      "source": [
        "%%bigquery top_countries\n",
        "WITH netflix AS (\n",
        "  SELECT *\n",
        "  FROM `bigquery-public-data.netflix_titles.netflix_titles`\n",
        ")\n",
        "SELECT country, COUNT(*) AS total\n",
        "FROM netflix\n",
        "WHERE country IS NOT NULL\n",
        "GROUP BY country\n",
        "ORDER BY total DESC\n",
        "LIMIT 10\n"
      ],
      "metadata": {
        "id": "ViOqIrNBaP4O"
      },
      "execution_count": null,
      "outputs": []
    },
    {
      "cell_type": "markdown",
      "source": [
        "# 🎬 Netflix BigQuery Project Template using Alias netflix\n",
        "✅ Step 1: Setup (Python for visualization)"
      ],
      "metadata": {
        "id": "7isNTPV8ab4O"
      }
    },
    {
      "cell_type": "code",
      "source": [
        "import pandas as pd\n",
        "import matplotlib.pyplot as plt\n",
        "import seaborn as sns\n",
        "\n",
        "sns.set(style=\"whitegrid\")\n"
      ],
      "metadata": {
        "id": "SWCG1H4xaVlG"
      },
      "execution_count": null,
      "outputs": []
    },
    {
      "cell_type": "markdown",
      "source": [
        "# 1️⃣ 🎥 Count of Movies vs TV Shows"
      ],
      "metadata": {
        "id": "wjIBCUMDafJA"
      }
    },
    {
      "cell_type": "code",
      "source": [
        "%%bigquery type_count\n",
        "WITH netflix AS (\n",
        "  SELECT *\n",
        "  FROM `bigquery-public-data.netflix_titles.netflix_titles`\n",
        ")\n",
        "SELECT type, COUNT(*) AS count\n",
        "FROM netflix\n",
        "GROUP BY type\n"
      ],
      "metadata": {
        "id": "evYD49lWalzH"
      },
      "execution_count": null,
      "outputs": []
    },
    {
      "cell_type": "code",
      "source": [
        "# Visualize content type\n",
        "sns.barplot(data=type_count, x='type', y='count')\n",
        "plt.title(\"Count of Movies vs TV Shows on Netflix\")\n",
        "plt.xlabel(\"Type\")\n",
        "plt.ylabel(\"Total\")\n",
        "plt.show()\n"
      ],
      "metadata": {
        "id": "Wekhlln9amo2"
      },
      "execution_count": null,
      "outputs": []
    },
    {
      "cell_type": "markdown",
      "source": [
        "# 2️⃣ 🌍 Top 10 Countries Producing Netflix Content"
      ],
      "metadata": {
        "id": "RsdkZ7oXaoTu"
      }
    },
    {
      "cell_type": "code",
      "source": [
        "%%bigquery top_countries\n",
        "WITH netflix AS (\n",
        "  SELECT *\n",
        "  FROM `bigquery-public-data.netflix_titles.netflix_titles`\n",
        ")\n",
        "SELECT country, COUNT(*) AS total\n",
        "FROM netflix\n",
        "WHERE country IS NOT NULL\n",
        "GROUP BY country\n",
        "ORDER BY total DESC\n",
        "LIMIT 10\n"
      ],
      "metadata": {
        "id": "g0WLav-1arna"
      },
      "execution_count": null,
      "outputs": []
    },
    {
      "cell_type": "code",
      "source": [
        "# Visualize countries\n",
        "sns.barplot(data=top_countries, y='country', x='total')\n",
        "plt.title(\"Top 10 Countries Producing Netflix Content\")\n",
        "plt.xlabel(\"Total Titles\")\n",
        "plt.ylabel(\"Country\")\n",
        "plt.show()\n"
      ],
      "metadata": {
        "id": "13xCt_pzauM_"
      },
      "execution_count": null,
      "outputs": []
    },
    {
      "cell_type": "markdown",
      "source": [
        "# 3️⃣ 🎭 Most Common Genres (Split by Comma)"
      ],
      "metadata": {
        "id": "jupNp2R7avwI"
      }
    },
    {
      "cell_type": "code",
      "source": [
        "%%bigquery genre_count\n",
        "WITH netflix AS (\n",
        "  SELECT *\n",
        "  FROM `bigquery-public-data.netflix_titles.netflix_titles`\n",
        ")\n",
        "SELECT genre, COUNT(*) AS total\n",
        "FROM (\n",
        "  SELECT TRIM(SPLIT(genre_item)[OFFSET(0)]) AS genre\n",
        "  FROM (\n",
        "    SELECT SPLIT(listed_in, ',') AS genre_list\n",
        "    FROM netflix\n",
        "  ), UNNEST(genre_list) AS genre_item\n",
        ")\n",
        "GROUP BY genre\n",
        "ORDER BY total DESC\n",
        "LIMIT 10\n"
      ],
      "metadata": {
        "id": "tkdpKCy-azZl"
      },
      "execution_count": null,
      "outputs": []
    },
    {
      "cell_type": "code",
      "source": [
        "# Top genres\n",
        "sns.barplot(data=genre_count, x='total', y='genre')\n",
        "plt.title(\"Top 10 Netflix Genres\")\n",
        "plt.xlabel(\"Total Titles\")\n",
        "plt.ylabel(\"Genre\")\n",
        "plt.show()\n"
      ],
      "metadata": {
        "id": "CAFVH7eVa2o3"
      },
      "execution_count": null,
      "outputs": []
    },
    {
      "cell_type": "markdown",
      "source": [
        "# 4️⃣ 📅 Year-wise Trend of Releases"
      ],
      "metadata": {
        "id": "WAkg0p7Ia5Xm"
      }
    },
    {
      "cell_type": "code",
      "source": [
        "%%bigquery release_trend\n",
        "WITH netflix AS (\n",
        "  SELECT *\n",
        "  FROM `bigquery-public-data.netflix_titles.netflix_titles`\n",
        ")\n",
        "SELECT release_year, COUNT(*) AS total\n",
        "FROM (\n",
        "  SELECT EXTRACT(YEAR FROM release_date) AS release_year\n",
        "  FROM netflix\n",
        "  WHERE release_date IS NOT NULL\n",
        ")\n",
        "GROUP BY release_year\n",
        "ORDER BY release_year\n"
      ],
      "metadata": {
        "id": "ese62moDa7O4"
      },
      "execution_count": null,
      "outputs": []
    },
    {
      "cell_type": "code",
      "source": [
        "# Trend of releases\n",
        "sns.lineplot(data=release_trend, x='release_year', y='total', marker='o')\n",
        "plt.title(\"Year-wise Trend of Netflix Releases\")\n",
        "plt.xlabel(\"Year\")\n",
        "plt.ylabel(\"Total Titles Released\")\n",
        "plt.xticks(rotation=45)\n",
        "plt.show()\n"
      ],
      "metadata": {
        "id": "pe6en13la9aG"
      },
      "execution_count": null,
      "outputs": []
    },
    {
      "cell_type": "markdown",
      "source": [
        "# 5️⃣ 🎬 Most Frequent Directors on Netflix"
      ],
      "metadata": {
        "id": "NAWnp7W_a_RQ"
      }
    },
    {
      "cell_type": "code",
      "source": [
        "%%bigquery top_directors\n",
        "WITH netflix AS (\n",
        "  SELECT *\n",
        "  FROM `bigquery-public-data.netflix_titles.netflix_titles`\n",
        ")\n",
        "SELECT director, COUNT(*) AS total\n",
        "FROM netflix\n",
        "WHERE director IS NOT NULL\n",
        "GROUP BY director\n",
        "ORDER BY total DESC\n",
        "LIMIT 10\n"
      ],
      "metadata": {
        "id": "ChrIvLIDbDBP"
      },
      "execution_count": null,
      "outputs": []
    },
    {
      "cell_type": "code",
      "source": [
        "# Top directors\n",
        "sns.barplot(data=top_directors, y='director', x='total')\n",
        "plt.title(\"Top 10 Most Featured Directors on Netflix\")\n",
        "plt.xlabel(\"Number of Titles\")\n",
        "plt.ylabel(\"Director\")\n",
        "plt.show()\n"
      ],
      "metadata": {
        "id": "XpB_sdx_bE_X"
      },
      "execution_count": null,
      "outputs": []
    }
  ]
}